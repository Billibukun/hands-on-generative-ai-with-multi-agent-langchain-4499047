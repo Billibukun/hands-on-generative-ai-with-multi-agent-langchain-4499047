{
  "cells": [
    {
      "cell_type": "markdown",
      "metadata": {
        "id": "B0e9ka9PDywt"
      },
      "source": [
        "# Agent Debates with Tools\n",
        "\n",
        "This example shows how to simulate multi-agent dialogues where agents have access to tools."
      ]
    },
    {
      "cell_type": "markdown",
      "metadata": {
        "id": "FhlvIn4EDyww"
      },
      "source": [
        "## Import LangChain related modules"
      ]
    },
    {
      "cell_type": "code",
      "execution_count": null,
      "metadata": {
        "colab": {
          "base_uri": "https://localhost:8080/"
        },
        "id": "ES3i0niaDywx",
        "outputId": "e2be22ab-e818-4a3e-9fa1-0a9e73538f2e"
      },
      "outputs": [],
      "source": [
        "!pip install arxiv\n",
        "!pip install duckduckgo-search\n",
        "!pip install wikipedia\n",
        "!pip install termcolor > /dev/null\n",
        "!pip install langchain\n",
        "!pip install openai\n",
        "!pip install langchain_experimental\n",
        "!pip install tiktoken\n",
        "!pip install faiss-cpu==1.7.4\n",
        "\n",
        "from typing import Callable, List\n",
        "\n",
        "from langchain.chat_models import ChatOpenAI\n",
        "from langchain.memory import ConversationBufferMemory\n",
        "from langchain.schema import (\n",
        "    AIMessage,\n",
        "    HumanMessage,\n",
        "    SystemMessage,\n",
        ")"
      ]
    },
    {
      "cell_type": "code",
      "execution_count": null,
      "metadata": {
        "id": "WjSf0z1d3wup"
      },
      "outputs": [],
      "source": [
        "import os"
      ]
    },
    {
      "cell_type": "code",
      "execution_count": null,
      "metadata": {
        "id": "3Vyovpl-3e32"
      },
      "outputs": [],
      "source": [
        "os.environ[\"OPENAI_API_KEY\"] = ''"
      ]
    },
    {
      "cell_type": "markdown",
      "metadata": {
        "id": "1pU-qhMBDywy"
      },
      "source": [
        "## Import modules related to tools"
      ]
    },
    {
      "cell_type": "code",
      "execution_count": null,
      "metadata": {
        "id": "MIdHBTHBDywy"
      },
      "outputs": [],
      "source": [
        "from langchain.agents import AgentType, initialize_agent, load_tools"
      ]
    },
    {
      "cell_type": "markdown",
      "metadata": {
        "id": "-dJpVwZIDywy"
      },
      "source": [
        "## `DialogueAgent` and `DialogueSimulator` classes\n"
      ]
    },
    {
      "cell_type": "code",
      "execution_count": null,
      "metadata": {
        "id": "lJ17jZD2Dywy"
      },
      "outputs": [],
      "source": [
        "class DialogueAgent:\n",
        "    def __init__(\n",
        "        self,\n",
        "        name: str,\n",
        "        system_message: SystemMessage,\n",
        "        model: ChatOpenAI,\n",
        "    ) -> None:\n",
        "        self.name = name\n",
        "        self.system_message = system_message\n",
        "        self.model = model\n",
        "        self.prefix = f\"{self.name}: \"\n",
        "        self.reset()\n",
        "\n",
        "    def reset(self):\n",
        "        self.message_history = [\"Here is the conversation so far.\"]\n",
        "\n",
        "    def send(self) -> str:\n",
        "        \"\"\"\n",
        "        Applies the chatmodel to the message history\n",
        "        and returns the message string\n",
        "        \"\"\"\n",
        "        message = self.model(\n",
        "            [\n",
        "                self.system_message,\n",
        "                HumanMessage(content=\"\\n\".join(self.message_history + [self.prefix])),\n",
        "            ]\n",
        "        )\n",
        "        return message.content\n",
        "\n",
        "    def receive(self, name: str, message: str) -> None:\n",
        "        \"\"\"\n",
        "        Concatenates {message} spoken by {name} into message history\n",
        "        \"\"\"\n",
        "        self.message_history.append(f\"{name}: {message}\")\n",
        "\n",
        "\n",
        "class DialogueSimulator:\n",
        "    def __init__(\n",
        "        self,\n",
        "        agents: List[DialogueAgent],\n",
        "        selection_function: Callable[[int, List[DialogueAgent]], int],\n",
        "    ) -> None:\n",
        "        self.agents = agents\n",
        "        self._step = 0\n",
        "        self.select_next_speaker = selection_function\n",
        "\n",
        "    def reset(self):\n",
        "        for agent in self.agents:\n",
        "            agent.reset()\n",
        "\n",
        "    def inject(self, name: str, message: str):\n",
        "        \"\"\"\n",
        "        Initiates the conversation with a {message} from {name}\n",
        "        \"\"\"\n",
        "        for agent in self.agents:\n",
        "            agent.receive(name, message)\n",
        "\n",
        "        # increment time\n",
        "        self._step += 1\n",
        "\n",
        "    def step(self) -> tuple[str, str]:\n",
        "        # 1. choose the next speaker\n",
        "        speaker_idx = self.select_next_speaker(self._step, self.agents)\n",
        "        speaker = self.agents[speaker_idx]\n",
        "\n",
        "        # 2. next speaker sends message\n",
        "        message = speaker.send()\n",
        "\n",
        "        # 3. everyone receives message\n",
        "        for receiver in self.agents:\n",
        "            receiver.receive(speaker.name, message)\n",
        "\n",
        "        # 4. increment time\n",
        "        self._step += 1\n",
        "\n",
        "        return speaker.name, message"
      ]
    },
    {
      "cell_type": "markdown",
      "metadata": {
        "id": "BLEBfRGIDywz"
      },
      "source": [
        "## `DialogueAgentWithTools` class\n",
        "We define a `DialogueAgentWithTools` class that augments `DialogueAgent` to use tools."
      ]
    },
    {
      "cell_type": "code",
      "execution_count": null,
      "metadata": {
        "id": "sgdM35LGDywz"
      },
      "outputs": [],
      "source": [
        "class DialogueAgentWithTools(DialogueAgent):\n",
        "    def __init__(\n",
        "        self,\n",
        "        name: str,\n",
        "        system_message: SystemMessage,\n",
        "        model: ChatOpenAI,\n",
        "        tool_names: List[str],\n",
        "        **tool_kwargs,\n",
        "    ) -> None:\n",
        "        super().__init__(name, system_message, model)\n",
        "        self.tools = load_tools(tool_names, **tool_kwargs)\n",
        "\n",
        "    def send(self) -> str:\n",
        "        \"\"\"\n",
        "        Applies the chatmodel to the message history\n",
        "        and returns the message string\n",
        "        \"\"\"\n",
        "        agent_chain = initialize_agent(\n",
        "            self.tools,\n",
        "            self.model,\n",
        "            agent=AgentType.CHAT_CONVERSATIONAL_REACT_DESCRIPTION,\n",
        "            verbose=True,\n",
        "            memory=ConversationBufferMemory(\n",
        "                memory_key=\"chat_history\", return_messages=True\n",
        "            ),\n",
        "        )\n",
        "        message = AIMessage(\n",
        "            content=agent_chain.run(\n",
        "                input=\"\\n\".join(\n",
        "                    [self.system_message.content] + self.message_history + [self.prefix]\n",
        "                )\n",
        "            )\n",
        "        )\n",
        "\n",
        "        return message.content"
      ]
    }
  ],
  "metadata": {
    "colab": {
      "provenance": []
    },
    "kernelspec": {
      "display_name": "Python 3 (ipykernel)",
      "language": "python",
      "name": "python3"
    },
    "language_info": {
      "codemirror_mode": {
        "name": "ipython",
        "version": 3
      },
      "file_extension": ".py",
      "mimetype": "text/x-python",
      "name": "python",
      "nbconvert_exporter": "python",
      "pygments_lexer": "ipython3",
      "version": "3.9.16"
    }
  },
  "nbformat": 4,
  "nbformat_minor": 0
}
